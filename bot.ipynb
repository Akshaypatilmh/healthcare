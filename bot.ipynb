from newspaper import Article
import random
import string
from sklearn.feature_extraction.text import TfidfVectorizer
from sklearn.metrics.pairwise import cosine_similarity
import nltk
import numpy as np
import warnings

warnings.filterwarnings('ignore')

nltk.download('punkt',quiet=True)
nltk.download('wordnet',quiet=True)

article = Article('https://www.mayoclinic.org/diseases-conditions/chronic-kidney-disease/symptoms-causes/syc-20354521')
article.download()
article.parse()
article.nlp()
corpus = article.text
print(corpus) #using this we will print the croups text 

text = corpus
sent_tokens = nltk.sent_tokenize(text) #here we are converting the text int list
print(sent_tokens) #printing the list of sentences

remove_punct_dict = dict(  ( ord(punct),None) for punct in string.punctuation)
print(string.punctuation)
print(remove_punct_dict)

def LemNormalize(text):
 return nltk.word_tokenize(text.lower().translate(remove_punct_dict))
print(LemNormalize(text))


GREETING_INPUTS = ["hi", "hello", "hola", "greetings", "wassup", "hey"]
GREETING_RESPONSES=["howdy", "hi", "hey", "what's good", "hello", "hey there"]
def greeting(sentence):
  for word in sentence.split():
    if word.lower() in GREETING_INPUTS:
      return random.choice(GREETING_RESPONSES)
#generat the response
def response(user_response):
  #user_response = 'What is chronic kidney disease'
  user_response = user_response.lower() #Make the response lower case
  #print(user_response)
  robo_response = ''
  sent_tokens.append(user_response)
  #print(sent_tokens)
  TfidfVec = TfidfVectorizer(tokenizer = LemNormalize, stop_words='english')
  tfidf = TfidfVec.fit_transform(sent_tokens)
  #print(tfidf)
  vals = cosine_similarity(tfidf[-1], tfidf)
  #print(vals)
  idx = vals.argsort()[0][-2]
  flat = vals.flatten()
  flat.sort()
  score = flat[-2]
  #print(score)
  if(score == 0):
    robo_response = robo_response+"I apologize, I don't understand."
  else:
    robo_response = robo_response+sent_tokens[idx]
    #print(robo_response)
    sent_tokens.remove(user_response)
  return robo_response

lag = True
print("DOCBot: I am Doctor Bot or DOCBot for short. I will answer your queries about Chronic Kidney Disease. If you want to exit, type Bye!")
while(flag == True):
  user_response = input()
  user_response = user_response.lower()
  if(user_response != 'bye'):
    if(user_response == 'thanks' or user_response =='thank you'):
      flag=False
      print("DOCBot: You are welcome !")
    else:
      if(greeting(user_response) != None):
        print("DOCBot: "+greeting(user_response))
      else:
        print("DOCBot: "+response(user_response))       
  else:
    flag = False
    print("DOCBot: Chat with you later !")

